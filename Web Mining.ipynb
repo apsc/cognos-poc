{
  "nbformat": 4,
  "nbformat_minor": 0,
  "metadata": {
    "colab": {
      "provenance": []
    },
    "kernelspec": {
      "name": "python3",
      "display_name": "Python 3"
    },
    "language_info": {
      "name": "python"
    }
  },
  "cells": [
    {
      "cell_type": "code",
      "source": [
        "from collections import Counter\n",
        "\n",
        "from wordcloud import WordCloud, STOPWORDS\n",
        "import matplotlib.pyplot as plt\n",
        "import pandas as pd\n",
        "from urllib.parse import urlparse\n",
        "import re\n",
        "import requests\n",
        "from google.colab import userdata\n",
        "\n",
        "from bs4 import BeautifulSoup, SoupStrainer\n",
        "from urllib.request import urlopen"
      ],
      "metadata": {
        "id": "gZKH3rXHSvu_"
      },
      "execution_count": 12,
      "outputs": []
    },
    {
      "cell_type": "code",
      "source": [
        "import nltk\n",
        "from nltk.tokenize import sent_tokenize, word_tokenize\n",
        "from nltk.corpus import stopwords\n",
        "nltk.download('punkt')\n",
        "nltk.download(\"stopwords\")\n",
        "nltk.download('averaged_perceptron_tagger')\n",
        "nltk.download('averaged_perceptron_tagger_eng')\n",
        "nltk.download('punkt_tab')\n",
        "stop_words = set(stopwords.words(\"english\"))"
      ],
      "metadata": {
        "colab": {
          "base_uri": "https://localhost:8080/"
        },
        "id": "It5wVJsDTS4x",
        "outputId": "07073bd4-d864-41dc-d271-3de122847355"
      },
      "execution_count": 13,
      "outputs": [
        {
          "output_type": "stream",
          "name": "stderr",
          "text": [
            "[nltk_data] Downloading package punkt to /root/nltk_data...\n",
            "[nltk_data]   Unzipping tokenizers/punkt.zip.\n",
            "[nltk_data] Downloading package stopwords to /root/nltk_data...\n",
            "[nltk_data]   Unzipping corpora/stopwords.zip.\n",
            "[nltk_data] Downloading package averaged_perceptron_tagger to\n",
            "[nltk_data]     /root/nltk_data...\n",
            "[nltk_data]   Unzipping taggers/averaged_perceptron_tagger.zip.\n",
            "[nltk_data] Downloading package averaged_perceptron_tagger_eng to\n",
            "[nltk_data]     /root/nltk_data...\n",
            "[nltk_data]   Unzipping taggers/averaged_perceptron_tagger_eng.zip.\n",
            "[nltk_data] Downloading package punkt_tab to /root/nltk_data...\n",
            "[nltk_data]   Unzipping tokenizers/punkt_tab.zip.\n"
          ]
        }
      ]
    },
    {
      "cell_type": "code",
      "execution_count": 14,
      "metadata": {
        "id": "GfYVR-M7SrvS"
      },
      "outputs": [],
      "source": [
        "# Mine the Web for Content\n",
        "\n",
        "url = 'https://data.usajobs.gov/api/search'\n",
        "headers = {\n",
        "    'Host': 'data.usajobs.gov',\n",
        "    'User-Agent': 'sgus@uw.edu',\n",
        "    'Authorization-Key': userdata.get('usajobs')\n",
        "}\n",
        "params = {\n",
        "    'Keyword' : 'Business Intelligence',\n",
        "    'LocationName' : '',\n",
        "    'ResultsPerPage' : '50'\n",
        "}"
      ]
    },
    {
      "cell_type": "code",
      "source": [
        "response = requests.get(url, headers=headers, params=params)\n",
        "\n",
        "if response.status_code == requests.codes.ok:\n",
        "    json_response = response.json()\n",
        "    # Use the JSON response as needed\n",
        "else:\n",
        "    response.raise_for_status()  # Raise an exception for unsuccessful responses\n",
        "\n",
        "print('Count of results:',json_response['SearchResult']['SearchResultCountAll'])"
      ],
      "metadata": {
        "colab": {
          "base_uri": "https://localhost:8080/"
        },
        "id": "jemSEpfKS7FQ",
        "outputId": "e04bd81d-7803-41c7-fcf0-e4830845bbc9"
      },
      "execution_count": 15,
      "outputs": [
        {
          "output_type": "stream",
          "name": "stdout",
          "text": [
            "Count of results: 57\n"
          ]
        }
      ]
    },
    {
      "cell_type": "code",
      "source": [
        "print('Example record:\\n')\n",
        "json_response['SearchResult']['SearchResultItems'][0]"
      ],
      "metadata": {
        "colab": {
          "base_uri": "https://localhost:8080/"
        },
        "id": "zrxTXdC7TAGU",
        "outputId": "d46ec8e1-94cc-4e4b-9e60-d717340ce369"
      },
      "execution_count": 16,
      "outputs": [
        {
          "output_type": "stream",
          "name": "stdout",
          "text": [
            "Example record:\n",
            "\n"
          ]
        },
        {
          "output_type": "execute_result",
          "data": {
            "text/plain": [
              "{'MatchedObjectId': '830050000',\n",
              " 'MatchedObjectDescriptor': {'PositionID': 'MCAD256418072160',\n",
              "  'PositionTitle': 'Supervisory Procurement Analyst',\n",
              "  'PositionURI': 'https://www.usajobs.gov:443/GetJob/ViewDetails/830050000',\n",
              "  'ApplyURI': ['https://www.usajobs.gov:443/GetJob/ViewDetails/830050000'],\n",
              "  'PositionLocationDisplay': 'Fort Cavazos, Texas',\n",
              "  'PositionLocation': [{'LocationName': 'Fort Cavazos, Texas',\n",
              "    'CountryCode': 'United States',\n",
              "    'CountrySubDivisionCode': 'Texas',\n",
              "    'CityName': 'Fort Cavazos, Texas',\n",
              "    'Longitude': -97.7092,\n",
              "    'Latitude': 31.2014}],\n",
              "  'OrganizationName': 'U.S. Army Contracting Command',\n",
              "  'DepartmentName': 'Department of the Army',\n",
              "  'SubAgency': '418th Contracting Support Brigade (CSB) - Fort Cavazos',\n",
              "  'JobCategory': [{'Name': 'Contracting', 'Code': '1102'}],\n",
              "  'JobGrade': [{'Code': 'GS'}],\n",
              "  'PositionSchedule': [{'Name': '', 'Code': '1'}],\n",
              "  'PositionOfferingType': [{'Name': '', 'Code': '15317'}],\n",
              "  'QualificationSummary': \"Who May Apply: Only applicants who meet one of the employment authority categories below are eligible to apply for this job. You will be asked to identify which category or categories you meet, and to provide documents which prove you meet the category or categories you selected. See Proof of Eligibility for an extensive list of document requirements for all employment authorities. Current Army Defense Civilian Intelligence Personnel System (DCIPS) Employee Current Department of Army Civilian Employees Current Department of Defense (DOD) Civilian Employee (non-Army) Current DoD Defense Civilian Intelligence Personnel System (DCIPS) Employee (non-Army) Defense Civilian Intelligence Personnel System (DCIPS) Interchange Agreement Domestic Defense Industrial Base/Major Range and Test Facilities Base Civilian Personnel Workforce Interagency Career Transition Assistance Plan Land Management Workforce Flexibility Act Military Spouses, under Executive Order (E.O.) 13473 Non-Department of Defense (DoD) Transfer Office of Personnel Management (OPM) Interchange Agreement Eligible Priority Placement Program, DoD Military Reserve (MR) and National Guard (NG) Technician Eligible Priority Placement Program, DoD Military Spouse Preference (MSP) Eligible Priority Placement Program, DoD MR and NG Preference Eligible Tech Receiving Disability Retirement Priority Placement Program, DoD Retained Grade Preference Eligible Reinstatement Veterans Employment Opportunity Act (VEOA) of 1998 In order to qualify, you must meet the education and experience requirements described below. Experience refers to paid and unpaid experience, including volunteer work done through National Service programs (e.g., Peace Corps, AmeriCorps) and other organizations (e.g., professional; philanthropic; religious; spiritual; community; student; social). You will receive credit for all qualifying experience, including volunteer experience. Your resume must clearly describe your relevant experience; if qualifying based on education, your transcripts will be required as part of your application. Additional information about transcripts is in this document. Basic Requirement for Supervisory Procurement Analyst: Degree: Bachelor's degree (or higher degree) from an accredited educational institution authorized to grant baccalaureate degrees. OR Exemption: You are exempt from the education requirements above if (A) you are a current civilian employee in DoD who occupied GS-1102 positions or contracting positions with authority to award or administer contracts above the simplified acquisition threshold in an Executive Department on or before September 30, 2000; OR (B) you are a current military member who occupied a similar occupational specialty to the GS (or equivalent)-1102 on or before September 30, 2000. In addition to meeting the basic requirement above, to qualify for this position you must also meet the qualification requirements listed below: Specialized Experience: One year of specialized experience which includes 1) Leading acquisition personnel in the completion of contracting functions to meet mission objectives; 2) Preparing trend analysis using quality data of workload documentation to determine resource management assessments; 3) Reviewing quality assurance documents for compliance; 4) Reviewing property administration documents for compliance; and 5) Advising on implications of procurement business processes. This definition of specialized experience is typical of work performed at the next lower grade/level position in the federal service (GS-13). Some federal jobs allow you to substitute your education for the required experience in order to qualify. For this job you must meet the qualification requirement using experience alone--no substitution of education for experience is permitted. Additional Requirements for Critical Acquisition Position (CAP): CAP Qualifications -Have four years of acquisition experience. -Be DAWIA or Back-to-Basics certified in Contracting at the highest level. -As a condition of employment, execute a three-year tenure agreement. You will be evaluated on the basis of your level of competency in the following areas: Contract Performance Management Leadership Quality Assurance Time in Grade Requirement: Applicants who have held a General Schedule (GS) position within the last 52 weeks must have 52 weeks of Federal service at the next lower grade or equivalent (GS-13).\",\n",
              "  'PositionRemuneration': [{'MinimumRange': '124531.0',\n",
              "    'MaximumRange': '161889.0',\n",
              "    'RateIntervalCode': 'PA',\n",
              "    'Description': 'Per Year'}],\n",
              "  'PositionStartDate': '2025-02-03T00:00:00.0000',\n",
              "  'PositionEndDate': '2025-02-17T23:59:59.9970',\n",
              "  'PublicationStartDate': '2025-02-03T00:00:00.0000',\n",
              "  'ApplicationCloseDate': '2025-02-17T23:59:59.9970',\n",
              "  'PositionFormattedDescription': [{'Label': 'Dynamic Teaser',\n",
              "    'LabelDescription': 'Hit highlighting for keyword searches.'}],\n",
              "  'UserArea': {'Details': {'JobSummary': 'Please limit your resume to 5 pages. If more than 5 pages are submitted, only the first 5 pages will be reviewed to determine your eligibility/qualifications. About the Position: Serve as a Supervisory Procurement Analyst for the 418th Contracting Support Brigade (CSB) located at Fort Cavazos, Texas. THIS IS NOT A REMOTE POSITION - DUTY STATION IS FORT CAVAZOS, TEXAS. The following incentives MAY be offered: - Permanent Change of Station Entitlement (PCS) - Relocation/Recruitment Incentives',\n",
              "    'WhoMayApply': {'Name': '', 'Code': ''},\n",
              "    'LowGrade': '14',\n",
              "    'HighGrade': '14',\n",
              "    'PromotionPotential': 'None',\n",
              "    'SubAgencyName': '418th Contracting Support Brigade (CSB) - Fort Cavazos',\n",
              "    'OrganizationCodes': 'DD/ARXD',\n",
              "    'Relocation': 'True',\n",
              "    'HiringPath': ['fed-transition',\n",
              "     'fed-competitive',\n",
              "     'fed-excepted',\n",
              "     'fed-internal-search',\n",
              "     'land',\n",
              "     'mspouse',\n",
              "     'special-authorities',\n",
              "     'vet'],\n",
              "    'MCOTags': ['NatSec', 'Army Acquisition'],\n",
              "    'TotalOpenings': '1',\n",
              "    'AgencyMarketingStatement': \"Looking to make a difference? Join our team! Army Materiel Command (AMC) is the Army's primary logistics and sustainment command, responsible for managing the global supply chain and ensuring installation and materiel readiness across the Total Force. AMC is one of the Army's largest commands with nearly 165,000 military, Army Civilian and contractor employees, impacting all 50 states and more than 150 countries. Since 1962, AMC has played a significant role in supplying our forces during wars, conflicts and contingencies, and providing humanitarian aid and disaster relief. From managing the Army's global supply chain to providing quality of life programs for Soldiers and families; from providing financial management and contracting capabilities to leading the way in data analytics, AMC's missions are wide ranging and critical. AMC's workforce is at the core of the command's support to the Warfighter. If you are ready to take your career to the next level and be part of a culture that puts people first, we have an extensive array of career paths available. Join today and be the power behind ensuring the best equipped and sustained fighting force in the world. Applicants may visit the Applicant Inquiry - CHRA Portal (army.mil) link if they have questions when applying for positions through USAJOBS. To submit an applicant inquiry, please visit: https://portal.chra.army.mil/hr_public?id=app_inq&validate=true.\",\n",
              "    'TravelCode': '2',\n",
              "    'ApplyOnlineUrl': 'https://apply.usastaffing.gov/Application/Apply',\n",
              "    'DetailStatusUrl': 'https://apply.usastaffing.gov/Application/ApplicationStatus',\n",
              "    'MajorDuties': ['Provide proposed solutions to improve processes and determine best practices and communicates recommendations to the Brigade’s Contracting workforce.',\n",
              "     'Participate in Brigade peer reviews to ensure compliance with property administration and quality assurance regulations.',\n",
              "     'Ensure that policy/regulations are being communicated as changes occur.',\n",
              "     'Responsible for final review of all documentation generated prior to its release to any higher-level approving official.',\n",
              "     'Utilize Business Intelligence and other automated systems for statistical and other reports on aspects of contracting.',\n",
              "     'Responsible for overseeing the maintenance and system administration of all procurement systems.',\n",
              "     'Serve as the procurement technical expert for initiatives.',\n",
              "     'Responsible for the preparation of all reporting requirements, data calls, and analysis of all complex reports/data requested from internal and external sources.',\n",
              "     'Plan work to be accomplished by subordinates, sets and adjust short-term priorities, and prepare schedules for completion of work.'],\n",
              "    'Education': 'FOREIGN EDUCATION: If you are using education completed in foreign colleges or universities to meet the qualification requirements, you must show the education credentials have been evaluated by a private organization that specializes in interpretation of foreign education programs and such education has been deemed equivalent to that gained in an accredited U.S. education program; or full credit has been given for the courses at a U.S. accredited college or university. For further information, visit: https://sites.ed.gov/international/recognition-of-foreign-qualifications/.',\n",
              "    'Requirements': '',\n",
              "    'Evaluations': \"Once the announcement has closed, a review of your application package (resume, supporting documents, and responses to the questionnaire) will be used to determine whether you meet the qualification requirements listed on this announcement. If you are minimally qualified, your resume and supporting documentation will be compared against your responses to the assessment questionnaire to determine your level of experience. If, after reviewing your resume and/or supporting documentation, a determination is made that you have inflated your qualifications and/or experience, you may lose consideration for this position. Please follow all instructions carefully when applying, errors or omissions may affect your eligibility. You should list any relevant performance appraisals and incentive awards in your resume as that information may be taken into consideration during the selection process. If selected, you may be required to provide supporting documentation. You may claim Military Spouse preference. You may claim Priority Placement Program (PPP) preference. .Interagency Career Transition Assistance Program (ICTAP). If you are a Federal employee in the competitive service and your agency has notified you in writing that you are a displaced employee eligible for ICTAP consideration, you may receive selection priority for this position. To receive selection priority, you must: (1) meet ICTAP eligibility criteria (2) be rated well-qualified for the position and; (3) submit the appropriate documentation to support your ICTAP eligibility. To be considered well-qualified and receive selection priority applicants must satisfy all qualification requirements for the position and receive a score of 90 or above. Additional information about the program is on OPM's Career Transition Resources website.\",\n",
              "    'HowToApply': 'To apply for this position, you must complete the online questionnaire and submit the documentation specified in the Required Documents section above. The complete application package must be submitted by 11:59 PM (EST) on02/17/2025 to receive consideration. To begin, click Apply to access the online application. You will need to be logged into your USAJOBS account to apply. If you do not have a USAJOBS account, you will need to create one before beginning the application (https://apply.usastaffing.gov/ViewQuestionnaire/12682160). Follow the prompts to select your resume and/or other supporting documents to be included with your application package. You will have the opportunity to upload additional documents to include in your application before it is submitted. Your uploaded documents may take several hours to clear the virus scan process. After acknowledging you have reviewed your application package, complete the Include Personal Information section as you deem appropriate and click to continue with the application process. You will be taken to the online application which you must complete in order to apply for the position. Complete the online application, verify the required documentation is included with your application package, and submit the application. You must re-select your resume and/or other documents from your USAJOBS account or your application will be incomplete. It is your responsibility to verify that your application package (resume, supporting documents, and responses to the questionnaire) is complete, accurate, and submitted by the closing date. Uploaded documents may take up to one hour to clear the virus scan. Additional information on how to complete the online application process and submit your online application may be found on the USA Staffing Applicant Resource Center. To verify the status of your application, log into your USAJOBS account (https://my.usajobs.gov/Account/Login), all of your applications will appear on the Welcome screen. The Application Status will appear along with the date your application was last updated. For information on what each Application Status means, visit: https://www.usajobs.gov/Help/how-to/application/status/',\n",
              "    'WhatToExpectNext': 'If you provided an email address, you will receive an email message acknowledging receipt of your application. Your application package will be used to determine your eligibility, qualifications, and quality ranking for this position. If you are determined to be ineligible or not qualified, your application will receive no further consideration. Applicants may visit the Applicant Inquiry - CHRA Portal (army.mil) link if they have questions when applying for positions through USAJOBS. To submit an applicant inquiry, please visit: https://portal.chra.army.mil/hr_public?id=app_inq&validate=true.',\n",
              "    'RequiredDocuments': \"The documents you are required to submit vary based on the authority you are using to apply (i.e., applying as a veteran, applying as a current permanent Federal employee, applying as a reinstatement, etc). Please review the following links to see which documents you need to provide to prove your eligibility to apply: Applicant Checklist for Internal/Merit Promotion Announcements. As described above, your complete application includes your resume, your responses to the online questionnaire, and documents which prove your eligibility to apply. If you fail to provide these documents, you will be marked as having an incomplete application package and you will not be considered any further. 1. Your resume: Please limit your resume to 5 pages. If more than 5 pages are submitted, only the first 5 pages will be reviewed to determine your eligibility/qualifications. Your resume may be submitted in any format and must support the specialized experience described in this announcement. If your resume includes a photograph or other inappropriate material or content, it will not be used to make eligibility and qualification determinations and you may not be considered for this vacancy. For qualifications determinations your resume must contain hours worked per week and the dates of employment (i.e., HRS per week and month/year to month/year or month/year to present). If your resume does not contain this information, your application may be marked as incomplete and you may not receive consideration for this position. For additional information see: What to include in your resume. 2. Other supporting documents: Cover Letter, optional Most recent Performance Appraisal, if applicable Proof of Eligibility to Apply: Your application must include the documents which prove you are eligible to apply for the vacancy. The Proof of Eligibility document describes authorities commonly used in merit promotion recruitment and what document(s) are required to prove you meet the requirements of the authority. You must meet the requirements of at least one of the authorities listed in the Who May Apply section above to receive further consideration. Time-in-grade documentation: If you are applying for a higher grade and your SF-50 has an effective date within the past year, it may not clearly demonstrate you meet the one year time-in-grade requirement so you will need to provide an SF-50 which clearly demonstrates you meet the time-in-grade requirements (examples of appropriate SF-50s include Promotions, Within-grade Grade/Range Increases, and SF-50s with an effective date more than one year old). This position has an individual occupational requirement and/or allows for substitution of education for experience. If you meet this requirement based on education you MUST submit a copy of your transcript with your application package or you will be rated ineligible. See: Transcripts and Licenses NOTE: Documents submitted as part of the application package, to include supplemental documents, may be shared beyond the Human Resources Office. Some supplemental documents such as military orders and marriage certificates may contain personal information for someone other than you. You may sanitize these documents to remove another person's personal information before you submit your application. You may be asked to provide an un-sanitized version of the documents if you are selected to confirm your eligibility.\",\n",
              "    'Benefits': '',\n",
              "    'BenefitsUrl': 'https://www.usajobs.gov/Help/working-in-government/',\n",
              "    'BenefitsDisplayDefaultText': True,\n",
              "    'OtherInformation': 'Male applicants born after December 31, 1959, must complete a Pre-Employment Certification Statement for Selective Service Registration. You will be required to provide proof of U.S. Citizenship. Direct deposit of pay is required. Selection is subject to restrictions resulting from Department of Defense referral system for displaced employees. If you have retired from federal service and you are interested in employment as a reemployed annuitant, see the information in the Reemployed Annuitant information sheet. This is a(n) Contracting and Procurement Career Field position. This is an Army Acquisition, Logistics and Technology Workforce position - Information on the Army Acquisition, Logistics, and Technology Workforce may be found at https://asc.army.mil. Multiple positions may be filled from this announcement. Salary includes applicable locality pay or Local Market Supplement. When you perform a Civilian Permanent Change of Station (PCS) with the government, the Internal Revenue Service (IRS) considers the majority of your entitlements to be taxable. Visit https://www.dfas.mil/civilianemployees/civrelo/Civilian-Moving-Expenses-Tax-Deduction/ for more information. Permanent Change of Station (PCS) allowances may be authorized, subject to the provisions of the Joint Travel Regulations and an agency determination that a PCS move is in the Government Interest. Relocation Incentive may be authorized in accordance with agency policy if a determination is made that it is in the best interest of the Government. Recruitment Incentive may be authorized in accordance with agency policy if a determination is made that it is in the best interest of the Government. If a relocation or recruitment incentive is authorized, then a service agreement is required. This is a critical acquisition position.',\n",
              "    'KeyRequirements': [],\n",
              "    'WithinArea': 'False',\n",
              "    'CommuteDistance': '0',\n",
              "    'ServiceType': '01',\n",
              "    'AnnouncementClosingType': '01',\n",
              "    'AgencyContactWebsite': 'https://portal.chra.army.mil/hr_public?id=app_inq',\n",
              "    'SecurityClearance': 'Secret',\n",
              "    'DrugTestRequired': 'False',\n",
              "    'PositionSensitivitiy': 'Noncritical-Sensitive (NCS)/Moderate Risk',\n",
              "    'AdjudicationType': ['National security'],\n",
              "    'TeleworkEligible': False,\n",
              "    'RemoteIndicator': False,\n",
              "    'FinancialDisclosure': True,\n",
              "    'BargainingUnitStatus': False},\n",
              "   'IsRadialSearch': False}},\n",
              " 'RelevanceRank': 0}"
            ]
          },
          "metadata": {},
          "execution_count": 16
        }
      ]
    },
    {
      "cell_type": "code",
      "source": [
        "# Use beautfulsoup to get and parse webpage\n",
        "url = \"https://www.geeksforgeeks.org/7-skills-needed-to-become-a-business-intelligence-analyst/\"\n",
        "page = urlopen(url)\n",
        "html = page.read().decode(\"utf-8\")\n",
        "soup = BeautifulSoup(html, \"html.parser\")\n",
        "\n",
        "page = dict()\n",
        "page['title']=soup.title.text\n",
        "page"
      ],
      "metadata": {
        "colab": {
          "base_uri": "https://localhost:8080/"
        },
        "id": "ner544TlTC9O",
        "outputId": "9560de02-b950-426d-be27-3da316ac5400"
      },
      "execution_count": 17,
      "outputs": [
        {
          "output_type": "execute_result",
          "data": {
            "text/plain": [
              "{'title': '7 Skills Needed to Become a Business Intelligence Analyst - GeeksforGeeks'}"
            ]
          },
          "metadata": {},
          "execution_count": 17
        }
      ]
    },
    {
      "cell_type": "code",
      "source": [
        "# Look at HTML structure to get articles - specific to some HTML content structure, not all\n",
        "articles = soup.find_all(\"article\")\n",
        "sections = []\n",
        "for i,a in enumerate(articles):\n",
        "  divTag = a.find_all(\"div\")\n",
        "  for tag in divTag:\n",
        "    for element in tag.find_all(\"p\"):\n",
        "      sections.append(element.text)\n",
        "page['sections']=sections\n",
        "\n",
        "print(page['title'])\n",
        "print(' '.join(page['sections']))\n",
        "\n",
        "sentences = sent_tokenize(' '.join(page['sections']))"
      ],
      "metadata": {
        "colab": {
          "base_uri": "https://localhost:8080/"
        },
        "id": "7ybeyuZNTHu4",
        "outputId": "26ab10ef-510f-47cd-c597-bfa4f1fd0965"
      },
      "execution_count": 18,
      "outputs": [
        {
          "output_type": "stream",
          "name": "stdout",
          "text": [
            "7 Skills Needed to Become a Business Intelligence Analyst - GeeksforGeeks\n",
            "What is the need of the hour for businesses these days? You guessed it right, it’s business intelligence! BI is one of the fundamental components for businesses if they want to remain profitable and increase their brand awareness well beyond their competitors. After all, business is essentially a competition where business intelligence can provide an edge to companies. Keeping this in mind, jobs like Business Intelligence Analyst are soaring in popularity! That’s where you come in! You can take advantage of this rising popularity of Business Intelligence to bag a BI Analyst job that will teach you a lot and take your career to new heights.  But what skills are needed to become a Business Intelligence Analyst?   Well, you need to have a diverse range of business, statistical, and analytical skills to become a Business Intelligence Analyst. You should be well versed in technical aspects such as data analytics and visualization while also having a knowledge of the business model and KPIs. So let’s see the world of business intelligence and understand what skills you need to cultivate in detail. Business Intelligence is a business-oriented aspect of data analytics wherein the data acquired by the business is converted into actionable insights so that the business can become more profitable. Business Intelligence can have many facets including analyzing different types of data that are generated by the business and then present the insights gained from the data to decision-makers in the business using presentations, reports, summaries, dashboards, graphs, etc. Data visualization also plays an important role in business intelligence, wherein different graphs and charts can be used to graphically present the data insights. In other words, Business Intelligence does not directly tell the decision-makers in a company what the roadmap for the company should be and what decisions they should take but it does provide a well-informed point of view based on the data that can be used to make informed decisions. For example, let’s assume a global car business wants to analyze the sales of its cars in each country and understand which models perform better. They can use Business Intelligence to collect data about all the car models they have such as their worldwide sales, popularity levels among customers, feedback for improvement, etc. By analyzing this data, the business can understand which models are more popular in each country and how to make improvements to increase their profit. Now that you know what Business Intelligence is, let’s see how you can go about making a career in it! Business Intelligence is a very popular field, and career opportunities are just expanding these days! One advantage of having a career in Business Intelligence is that there is a lot of variety in this role. You can choose to become a BI Analyst in almost any job sector like health, automobile, entertainment, etc. as all these sectors need business intelligence to enhance their business practices and stay ahead of their competitors. Another big advantage of Business Intelligence is that it is not a fixed job description and you could alter this job according to what you like! You could take on a purely technical role where your main focus is on programming and just obtaining insights from the data or you could take on a more human-oriented role where you need good communication skills to explain the data insights to non-technical decision-makers in the business. Whatever you decide to do, there are a lot of career opportunities in Business Intelligence, so much so that you’ll be spoilt for choice! There are many skills that should be in the arsenal of a BI Analyst. Some of these are given below: Data preparation is a very important part of Business Intelligence. To obtain any insights from the data, first, the data needs to be collected, cleaned, and organized in a uniform manner. There are many data preparation tools that can collect data from various sources and then prepare this data with the same dimensions and measurements. And as a BI Analyst, you should be familiar with at least some of these data preparation tools like Tableau Prep, Improvado. Alteryx, etc. Data mining is the process of finding patterns in the data that were previously not visible. This converts the raw data into useful information that can be used for decision-making. The knowledge of data mining requires an understanding of various technologies like machine learning, databases, statistical analysis, computer science algorithms, etc. Some of the tools that are very helpful in data mining include the Rapid Miner, Oracle data mining, Konstanz Information Miner, etc. Knowledge of statistics is a big part of becoming a Business Intelligence Analyst. You should have knowledge of various statistical components like mean, median, range, variance, etc. can be used to get a more detailed view of the data. And these are just the basics! Other advanced statistical topics like combinatorics, set theory, probability, discrete and continuous and bivariate distributions, random variables, etc. are also important. There are many analytical tools that can help businesses to understand their metrics better in order to create a sound BI strategy. These include SAS, Hadoop, Spark, Hive, Pig, etc. Description analysis involves researching the data to understand if there are any missing values, outliers, abnormal or skewed distributions, etc. In essence, it is a part of understanding and getting to know the data before presenting the data to decision-makers in a clean form. There are many tools that can be used for descriptive analytics such as the statistical methods described above or data visualization charts that are used to study the data such as histograms, bar charts, box and whisker plots, etc. As a BI analyst, a critical part of your job is not just to obtain the patterns in the data but to visualize the data in such a manner that these patterns are clearly visible. So data visualization skills are a big part of becoming a Business Intelligence Analyst. You should have knowledge about various charts that can be used to visualize the data such as Area Charts, Bar Charts, Heat Maps, TreeMaps, Scatter Plots, Gantt Charts, etc. All these charts allow decision-makers to understand the data in more depth by visualizing it and understanding the slowly changing trends or the places where critical changes suddenly occur. As a Business Intelligence Analyst, you should have sound business knowledge as well. You should be well acquainted with the business model of the company you are working for and understand how to leverage the data in order to obtain the maximum profit for the business based on the key performance indicators. You should understand both the short-term and long-term business goals of the company so that you can help in charting the future path with the help of data. Data Report skills or Communication skills are soft skills that are absolutely essential to your job as a business intelligence analyst. You should have the speaking skills to report the insights obtained from the data to higher-ups in the business such as the stakeholders and board members so that they can make the necessary decisions for the business. Also, it is important to remember that most of the decision-makers might be from a technical background so it’s important to use layman’s language to explain technical concepts so that they are easily understandable. Now that you have a glimpse of the business intelligence world, you can cultivate these skills to obtain your dream job in BI. If you are still a student, then it is relatively easy as you can major in information systems or business analytics. If you are already in the industry, then you can gain experience with an internship and then get your dream job in business intelligence.  \n"
          ]
        }
      ]
    },
    {
      "cell_type": "code",
      "source": [
        "# Find links for web mining to follow that are not on the origin site\n",
        "\n",
        "origin_host = urlparse(url)\n",
        "print(origin_host.hostname,'-->')\n",
        "for link in BeautifulSoup(html, 'html.parser', parse_only=SoupStrainer('a')):\n",
        "    if link.has_attr('href'):\n",
        "        parsed = urlparse(link['href'])\n",
        "        if parsed.hostname != origin_host.hostname:\n",
        "          print('...',link['href'])"
      ],
      "metadata": {
        "colab": {
          "base_uri": "https://localhost:8080/"
        },
        "id": "DYfnrs4UTKKp",
        "outputId": "5b94947f-c792-444f-ffa0-47dbd3bd1d8d"
      },
      "execution_count": 19,
      "outputs": [
        {
          "output_type": "stream",
          "name": "stdout",
          "text": [
            "www.geeksforgeeks.org -->\n",
            "... #main\n",
            "... https://practice.geeksforgeeks.org/company-tags/?ref=outind\n",
            "... https://practice.geeksforgeeks.org/explore?page=1&sortBy=submissions\n",
            "... https://geeksforgeeksapp.page.link/?link=https://www.geeksforgeeks.org/7-skills-needed-to-become-a-business-intelligence-analyst/?type%3Darticle%26id%3D521233&apn=free.programming.programming&isi=1641848816&ibi=org.geeksforgeeks.GeeksforGeeksDev&efr=1\n",
            "... https://news.google.com/publications/CAAqBwgKMLTrzwsw44bnAw?hl=en-IN&gl=IN&ceid=IN%3Aen\n",
            "... https://news.google.com/publications/CAAqBwgKMLTrzwsw44bnAw?hl=en-IN&gl=IN&ceid=IN%3Aen\n",
            "... https://www.facebook.com/geeksforgeeks.org/\n",
            "... https://www.instagram.com/geeks_for_geeks/\n",
            "... https://in.linkedin.com/company/geeksforgeeks\n",
            "... https://twitter.com/geeksforgeeks\n",
            "... https://www.youtube.com/geeksforgeeksvideos\n",
            "... https://geeksforgeeksapp.page.link/gfg-app\n",
            "... https://geeksforgeeksapp.page.link/gfg-app\n",
            "... #\n",
            "... https://write.geeksforgeeks.org/posts-new?cid=e8fc46fe-75e7-4a4b-be3c-0c862d655ed0\n",
            "... https://write.geeksforgeeks.org/posts-new?cid=82536bdb-84e6-4661-87c3-e77c3ac04ede\n",
            "... https://write.geeksforgeeks.org/posts-new?cid=5219b0b2-7671-40a0-9bda-503e28a61c31\n",
            "... https://write.geeksforgeeks.org/posts-new?cid=22ae3354-15b6-4dd4-a5b4-5c7a105b8a8f\n",
            "... https://write.geeksforgeeks.org/posts-new?cid=c5e1ac90-9490-440a-a5fa-6180c87ab8ae\n",
            "... https://write.geeksforgeeks.org/posts-new?cid=5ebb8fe9-b980-4891-af07-f2d62a9735f2\n"
          ]
        }
      ]
    },
    {
      "cell_type": "code",
      "source": [
        "# Mini project - Book store personalized recommendations from reading lists\n",
        "\n",
        "url = 'https://lithub.com/here-are-haruki-murakamis-five-favorite-books/'"
      ],
      "metadata": {
        "id": "4Bqnk_YOTeF4"
      },
      "execution_count": 20,
      "outputs": []
    },
    {
      "cell_type": "code",
      "source": [
        "# Use beautfulsoup to get and parse webpage\n",
        "page = urlopen(url)\n",
        "html = page.read().decode(\"utf-8\")\n",
        "soup = BeautifulSoup(html, \"html.parser\")\n",
        "\n",
        "page = dict()\n",
        "page['title']=soup.title.text\n",
        "page\n",
        "content = dict()\n"
      ],
      "metadata": {
        "id": "NQ7LrFuMWDhG"
      },
      "execution_count": 21,
      "outputs": []
    },
    {
      "cell_type": "code",
      "source": [
        "text = soup.get_text()\n",
        "print(text)"
      ],
      "metadata": {
        "id": "o5vfD0DZWGyl",
        "colab": {
          "base_uri": "https://localhost:8080/"
        },
        "outputId": "bafe26f4-8677-4c42-c29c-b73e40c0d462"
      },
      "execution_count": 34,
      "outputs": [
        {
          "output_type": "stream",
          "name": "stdout",
          "text": [
            "\n",
            "\n",
            "\n",
            "\n",
            "\n",
            "\n",
            "Here are Haruki Murakami’s five favorite books. ‹ Literary  Hub\n",
            "\n",
            "\n",
            "\n",
            "\n",
            "\n",
            "\n",
            "\n",
            "\n",
            "\n",
            "\n",
            "\n",
            "\n",
            "\n",
            "\n",
            "\n",
            "\n",
            "\n",
            "\n",
            "\n",
            "\n",
            "\n",
            "\n",
            "\n",
            "\n",
            "\n",
            "\n",
            "\n",
            "\n",
            "\n",
            "\n",
            "\n",
            "\n",
            "\n",
            "\n",
            "\n",
            "\n",
            "\n",
            "\n",
            "\n",
            "\n",
            "\n",
            "\n",
            "\n",
            "\n",
            "\n",
            "\n",
            "\n",
            "\n",
            "\n",
            "\n",
            "\n",
            "\n",
            "\n",
            "\n",
            "\n",
            "\n",
            "\n",
            "\n",
            "\n",
            "\n",
            "\n",
            "\n",
            "\n",
            "\n",
            "\n",
            "\n",
            "\n",
            "\n",
            "\n",
            "\n",
            "\n",
            "\n",
            "\n",
            "\n",
            "\n",
            "\n",
            "\n",
            "\n",
            "\n",
            "\n",
            "\n",
            "\n",
            "\n",
            "\n",
            "\n",
            "\n",
            "\n",
            "\n",
            "\n",
            "\n",
            "\n",
            "\n",
            "\n",
            "\n",
            "\n",
            "\n",
            "\n",
            "\n",
            "\n",
            "\n",
            "\n",
            "\n",
            "\n",
            "\n",
            "\n",
            "\n",
            "\n",
            "\n",
            "\n",
            "\n",
            "\n",
            "\n",
            "\n",
            "\n",
            "\n",
            "\n",
            "\n",
            "\n",
            "\n",
            "\n",
            "\n",
            "\n",
            "\n",
            "\n",
            "\n",
            "\n",
            "\n",
            "\n",
            "\n",
            "\n",
            "Craft and Criticism\n",
            "Fiction and Poetry\n",
            "News and Culture\n",
            "Lit Hub Radio\n",
            "Reading Lists\n",
            "Book Marks\n",
            "CrimeReads\n",
            "About\n",
            "Log In\n",
            " \n",
            "\n",
            "\n",
            "\n",
            "\n",
            "\n",
            "\n",
            "\n",
            "\n",
            "\n",
            "\n",
            "\n",
            "\n",
            "\n",
            "\n",
            "\n",
            "\n",
            "\n",
            "\n",
            "\n",
            "\n",
            "\n",
            "\n",
            "\n",
            "\n",
            "\n",
            "\n",
            "\n",
            "\n",
            "\t\t\t\t\t\t\t\tLiterary Hub\n",
            "\t\t\t\t\t\t\t\n",
            "\n",
            "\n",
            "\n",
            "\n",
            "\n",
            "\n",
            "\n",
            "\n",
            "\n",
            "\n",
            "\n",
            "\n",
            "\n",
            "Craft and Criticism Literary Criticism\n",
            "Craft and Advice\n",
            "In Conversation\n",
            "On Translation\n",
            "\n",
            "Fiction and Poetry Short Story\n",
            "From the Novel\n",
            "Poem\n",
            "\n",
            "News and Culture History\n",
            "Science\n",
            "Politics\n",
            "Biography\n",
            "Memoir\n",
            "Food\n",
            "Technology\n",
            "Bookstores and Libraries\n",
            "Film and TV\n",
            "Travel\n",
            "Music\n",
            "Art and Photography\n",
            "The Hub\n",
            "Style\n",
            "Design\n",
            "Sports\n",
            "Freeman’s\n",
            "The Virtual Book Channel\n",
            "\n",
            "Lit Hub Radio The Lit Hub Podcast\n",
            "The Critic and Her Publics\n",
            "Awakeners\n",
            "Fiction/Non/Fiction\n",
            "I’m a Writer But\n",
            "Windham-Campbell Prizes Podcast\n",
            "Write-minded\n",
            "First Draft: A Dialogue on Writing\n",
            "Behind the Mic\n",
            "Lit Century\n",
            "Tor Presents: Voyage Into Genre\n",
            "Beyond the Page\n",
            "The Cosmic Library\n",
            "Emergence Magazine\n",
            "Talk Easy\n",
            "\n",
            "Reading Lists The Best of the Decade\n",
            "\n",
            "Book Marks Best Reviewed Books\n",
            "\n",
            "CrimeReads True Crime\n",
            "The Daily Thrill\n",
            "\n",
            "Log In\n",
            " \n",
            "\n",
            "\n",
            "\n",
            "\n",
            "\n",
            "\n",
            "\n",
            "\n",
            "\n",
            "\n",
            "\n",
            "\n",
            "\n",
            "\n",
            "\n",
            "\n",
            "The Hub\n",
            "\n",
            "\n",
            "News, Notes, Talk\n",
            "\n",
            "\n",
            "\n",
            "\n",
            "\n",
            "\n",
            "\n",
            "\n",
            "\n",
            "\n",
            "Here are Haruki Murakami’s five favorite books.\n",
            "\n",
            "\n",
            "By 141 Writers\n",
            "\n",
            "February 15, 2022, 2:46pm\n",
            "\n",
            "If you’ve already seen Drive My Car, purchased a Haruki Murakami/Uniqlo collab T-shirt, taken a video tour of the Haruki Murakami Library, read Murakami’s take on his female characters, and learned to compare the process of writing to . . . well . . . anything, you might be hungry for more Haruki Murakami-related—or at least -approved—reading. Happily, as Far Out Magazine pointed out yesterday, Murakami’s spoken to interviewers over the years about his five favorite books, and here they are, along with his thoughts (from The New Yorker, The Guardian, his acceptance speech for the Kafka Award, and his introductions to his translations):\n",
            "*\n",
            "F. Scott Fitzgerald, The Great Gatsby\n",
            "“If I were forced to select only one [book that has meant the most to me], I would unhesitatingly choose Gatsby. Had it not been for Fitzgerald’s novel, I would not be writing the kind of literature I am today (indeed, it is possible that I would not be writing at all, although that is neither here or there).”\n",
            "*\n",
            "Raymond Chandler, The Long Goodbye\n",
            "“Philip Marlow is Chandler’s fantasy, but he’s real to me.”\n",
            "“I translate what I like to read. I have translated all the novels of Raymond Chandler. I like his style so much. I have read The Long Goodbye five or six times.”\n",
            "*\n",
            "Franz Kafka, The Castle\n",
            "“I encountered Kafka’s work when I was 15 years old, the book was The Castle. It was a great big incredible book. It gave me a tremendous shock. The world Kafka described in that book was so real and so unreal at the same time that my heart and soul seemed torn into two pieces.”\n",
            "* \n",
            "Fyodor Dostoevsky, The Brothers Karamazov \n",
            "“Most writers get weaker and weaker as they age. But Dostoevsky didn’t. He kept getting bigger and greater. He wrote The Brothers Karamazov in his late fifties. That’s a great novel.”\n",
            " *\n",
            "J.D. Salinger, The Catcher in the Rye\n",
            "“It’s a dark story, very disturbing. I enjoyed it when I was seventeen, so I decided to translate it. I remembered it as being funny, but it’s dark and strong. I must have been disturbed when I was young.”\n",
            "*\n",
            "In addition, on his website, Murakami lists his main influences as Raymond Chandler, Kurt Vonnegut, and Richard Brautigan. Happy reading, Murakami enthusiasts!\n",
            " \n",
            "Click to share on Facebook (Opens in new window)Click to share on Twitter (Opens in new window)MoreClick to share on LinkedIn (Opens in new window)Click to share on Reddit (Opens in new window)Click to share on Tumblr (Opens in new window)Click to share on Pinterest (Opens in new window)Click to share on Pocket (Opens in new window)Click to email a link to a friend (Opens in new window)Click to print (Opens in new window)Like this:Like Loading...\n",
            "\n",
            "Haruki Murakami\n",
            "The Hub\n",
            "\n",
            "\n",
            "\n",
            "\n",
            "\n",
            "\n",
            "\n",
            "\n",
            "\n",
            "\n",
            "\n",
            "\n",
            " \n",
            "Close\n",
            "\n",
            "to the Lithub Daily\n",
            "Thank you for subscribing!\n",
            "\n",
            "\n",
            "\n",
            "Email\n",
            "\n",
            "\n",
            "\n",
            "\n",
            "\n",
            "\n",
            "\n",
            "\n",
            "\n",
            "\n",
            "\n",
            "\n",
            "\n",
            "\t\t\t\t\t\tSubmit\n",
            "\t\t\t\t\t\n",
            "\n",
            "\n",
            "\n",
            "\n",
            "\n",
            "\n",
            "Lithub DailyFebruary 13, 2025\n",
            "\n",
            "\n",
            "The proliferation of the Divorce Plot\n",
            "Mosab Abu Toha on the rebuilding of Gaza\n",
            "Ryan Boyd explores the death of culture at the hands of finance \n",
            "\n",
            "More News\n",
            "  Lit hub Radio Podcasts, Audiobooks + More Now Playing: All Stations                   \n",
            "\n",
            "\n",
            "\n",
            "\n",
            "\n",
            "\n",
            "\n",
            "\n",
            "\n",
            "\n",
            "\n",
            "\n",
            "RSS\n",
            "RSS - Posts\n",
            "\n",
            "\n",
            "\n",
            "Literary Hub\n",
            "Created by Grove Atlantic and Electric Literature\n",
            "\n",
            "Masthead\n",
            "\n",
            " \n",
            "About\n",
            "\n",
            " \n",
            "Sign Up For Our Newsletters\n",
            "\n",
            " \n",
            "How to Pitch Lit Hub\n",
            " \n",
            "\n",
            "Advertisers: Contact Us\n",
            "\n",
            "\n",
            " \n",
            "Privacy Policy\n",
            "\n",
            " \n",
            "Support Lit Hub - Become A Member\n",
            "\n",
            " \n",
            "\n",
            "\n",
            "\n",
            "\n",
            "\n",
            "\n",
            "\n",
            "\n",
            "\n",
            "\n",
            "\n",
            "    \t    © LitHub\n",
            "\n",
            "Back to top\n",
            "\n",
            "\n",
            "\n",
            "\n",
            "\n",
            "\n",
            "\n",
            "\n",
            "\n",
            "\n",
            "\n",
            "\n",
            "\n",
            "\n",
            "\n",
            "\n",
            "\n",
            "\n",
            "\n",
            "\n",
            "\n",
            "\n",
            "\n",
            "✕\n",
            "\n",
            "\n",
            "\n",
            "\n",
            "\n",
            "We Need Your Help:\n",
            "Become a Lit Hub Supporting Member\n",
            "Lit Hub has always brought you the best of the book world for free—no paywall. But our future relies on you. In return for your contribution, you'll get an ad-free site experience, editors' picks, and our Joan Didion tote bag. Most importantly, you'll keep independent book coverage alive and thriving.\n",
            "\n",
            "Become a member for as low as $5/month\n",
            "Dismiss without supporting Lit Hub\n",
            "\n",
            "\n",
            "\n",
            "\n",
            "\n",
            "\n",
            "\n",
            "\n",
            "\n",
            "\n",
            "\n",
            "\n",
            "\n",
            "\n",
            "\n",
            "\n",
            "\n",
            "\n",
            "\n",
            "\n",
            "\n",
            "\n",
            "\n",
            "\n",
            "\n",
            "\n",
            "\n",
            "\n",
            "\n",
            "%d\n",
            "\n",
            "\n",
            "\n",
            "\n",
            "\n",
            "\n",
            "\n",
            "\n"
          ]
        }
      ]
    },
    {
      "cell_type": "code",
      "source": [
        "all_paragraphs = soup.find_all('p')\n",
        "next = 0\n",
        "for paragraph in all_paragraphs:\n",
        "  if not next:\n",
        "    if paragraph.get_text().strip() == '*':\n",
        "      next=1\n",
        "  else:\n",
        "    line = paragraph.get_text().split(',')\n",
        "    author = line[0].strip()\n",
        "    title = line[1].strip()\n",
        "    print(author,' by ',title,sep='')\n",
        "    next = 0\n"
      ],
      "metadata": {
        "colab": {
          "base_uri": "https://localhost:8080/"
        },
        "id": "FiBJfP9PXrob",
        "outputId": "63f22cf5-5a2f-435a-83cf-a2476aa034f3"
      },
      "execution_count": 57,
      "outputs": [
        {
          "output_type": "stream",
          "name": "stdout",
          "text": [
            "F. Scott Fitzgerald by The Great Gatsby\n",
            "Raymond Chandler by The Long Goodbye\n",
            "Franz Kafka by The Castle\n",
            "Fyodor Dostoevsky by The Brothers Karamazov\n",
            "J.D. Salinger by The Catcher in the Rye\n",
            "In addition by on his website\n"
          ]
        }
      ]
    },
    {
      "cell_type": "code",
      "source": [
        "!pip install anthropic"
      ],
      "metadata": {
        "id": "uVvmvB9XSbwG",
        "colab": {
          "base_uri": "https://localhost:8080/"
        },
        "outputId": "0c13e7fc-7ac5-463b-b7d9-3de149b5e962"
      },
      "execution_count": 2,
      "outputs": [
        {
          "output_type": "stream",
          "name": "stdout",
          "text": [
            "Collecting anthropic\n",
            "  Downloading anthropic-0.45.2-py3-none-any.whl.metadata (23 kB)\n",
            "Requirement already satisfied: anyio<5,>=3.5.0 in /usr/local/lib/python3.11/dist-packages (from anthropic) (3.7.1)\n",
            "Requirement already satisfied: distro<2,>=1.7.0 in /usr/local/lib/python3.11/dist-packages (from anthropic) (1.9.0)\n",
            "Requirement already satisfied: httpx<1,>=0.23.0 in /usr/local/lib/python3.11/dist-packages (from anthropic) (0.28.1)\n",
            "Requirement already satisfied: jiter<1,>=0.4.0 in /usr/local/lib/python3.11/dist-packages (from anthropic) (0.8.2)\n",
            "Requirement already satisfied: pydantic<3,>=1.9.0 in /usr/local/lib/python3.11/dist-packages (from anthropic) (2.10.6)\n",
            "Requirement already satisfied: sniffio in /usr/local/lib/python3.11/dist-packages (from anthropic) (1.3.1)\n",
            "Requirement already satisfied: typing-extensions<5,>=4.10 in /usr/local/lib/python3.11/dist-packages (from anthropic) (4.12.2)\n",
            "Requirement already satisfied: idna>=2.8 in /usr/local/lib/python3.11/dist-packages (from anyio<5,>=3.5.0->anthropic) (3.10)\n",
            "Requirement already satisfied: certifi in /usr/local/lib/python3.11/dist-packages (from httpx<1,>=0.23.0->anthropic) (2025.1.31)\n",
            "Requirement already satisfied: httpcore==1.* in /usr/local/lib/python3.11/dist-packages (from httpx<1,>=0.23.0->anthropic) (1.0.7)\n",
            "Requirement already satisfied: h11<0.15,>=0.13 in /usr/local/lib/python3.11/dist-packages (from httpcore==1.*->httpx<1,>=0.23.0->anthropic) (0.14.0)\n",
            "Requirement already satisfied: annotated-types>=0.6.0 in /usr/local/lib/python3.11/dist-packages (from pydantic<3,>=1.9.0->anthropic) (0.7.0)\n",
            "Requirement already satisfied: pydantic-core==2.27.2 in /usr/local/lib/python3.11/dist-packages (from pydantic<3,>=1.9.0->anthropic) (2.27.2)\n",
            "Downloading anthropic-0.45.2-py3-none-any.whl (222 kB)\n",
            "\u001b[2K   \u001b[90m━━━━━━━━━━━━━━━━━━━━━━━━━━━━━━━━━━━━━━━━\u001b[0m \u001b[32m222.8/222.8 kB\u001b[0m \u001b[31m4.9 MB/s\u001b[0m eta \u001b[36m0:00:00\u001b[0m\n",
            "\u001b[?25hInstalling collected packages: anthropic\n",
            "Successfully installed anthropic-0.45.2\n"
          ]
        }
      ]
    },
    {
      "cell_type": "code",
      "source": [
        "import anthropic\n",
        "from google.colab import userdata"
      ],
      "metadata": {
        "id": "NSM22rnMS7-_"
      },
      "execution_count": 6,
      "outputs": []
    },
    {
      "cell_type": "code",
      "source": [
        "ANTHROPIC_MODEL = \"claude-3-haiku-20240307\""
      ],
      "metadata": {
        "id": "yr27jta9UppT"
      },
      "execution_count": 4,
      "outputs": []
    },
    {
      "cell_type": "code",
      "source": [
        "anthropic_client = anthropic.Anthropic(\n",
        "    api_key=userdata.get('ANTHROPIC_API_KEY')\n",
        ")"
      ],
      "metadata": {
        "id": "pz5xZEJKUtVU"
      },
      "execution_count": 7,
      "outputs": []
    },
    {
      "cell_type": "code",
      "source": [
        "def anthro_llm(message,temperature=0.0,model=ANTHROPIC_MODEL):\n",
        "  message = anthropic_client.messages.create(\n",
        "      model=model,\n",
        "      temperature=temperature,\n",
        "      max_tokens=1024,\n",
        "      messages=[\n",
        "          {\"role\": \"user\", \"content\": message}\n",
        "      ]\n",
        "  )\n",
        "  return message.content[0].text"
      ],
      "metadata": {
        "id": "g_CjyJBgU7zR"
      },
      "execution_count": 9,
      "outputs": []
    },
    {
      "cell_type": "code",
      "source": [
        "print(anthro_llm(\"Please extract the book author and title from this html and return a list of only the author and title, with no other commentary: \"+soup.get_text()) )"
      ],
      "metadata": {
        "colab": {
          "base_uri": "https://localhost:8080/"
        },
        "id": "_p5jhovYVEXS",
        "outputId": "995bbcf5-2bde-4942-f94a-3e42e66c3e64"
      },
      "execution_count": 53,
      "outputs": [
        {
          "output_type": "stream",
          "name": "stdout",
          "text": [
            "Here is the list of the author and title extracted from the HTML:\n",
            "\n",
            "Haruki Murakami\n",
            "1. The Great Gatsby by F. Scott Fitzgerald\n",
            "2. The Long Goodbye by Raymond Chandler\n",
            "3. The Castle by Franz Kafka\n",
            "4. The Brothers Karamazov by Fyodor Dostoevsky\n",
            "5. The Catcher in the Rye by J.D. Salinger\n"
          ]
        }
      ]
    },
    {
      "cell_type": "code",
      "source": [
        "def check_author(possible):\n",
        "  response = requests.get('https://openlibrary.org/search.json?author='+possible+'&sort=new')\n",
        "\n",
        "  if response.status_code == requests.codes.ok:\n",
        "      json_response = response.json()\n",
        "  else:\n",
        "      response.raise_for_status()  # Raise an exception for unsuccessful responses\n",
        "\n",
        "  for doc in json_response['docs']:\n",
        "    if doc['author_name'][0].lower().strip() == possible.lower().strip():\n",
        "      print(doc['author_name'][0].lower())\n",
        ""
      ],
      "metadata": {
        "id": "Xf9PEJyKbiSs"
      },
      "execution_count": 87,
      "outputs": []
    },
    {
      "cell_type": "code",
      "source": [
        "print(check_author('Haruki%20Murakami'))"
      ],
      "metadata": {
        "colab": {
          "base_uri": "https://localhost:8080/"
        },
        "id": "ejEtjIR8b4AY",
        "outputId": "5288cc40-41c2-4f46-81be-6fb5479dd2b3"
      },
      "execution_count": 88,
      "outputs": [
        {
          "output_type": "stream",
          "name": "stdout",
          "text": [
            "None\n"
          ]
        }
      ]
    }
  ]
}